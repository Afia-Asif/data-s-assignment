{
  "metadata": {
    "kernelspec": {
      "name": "python",
      "display_name": "Pyolite",
      "language": "python"
    },
    "language_info": {
      "codemirror_mode": {
        "name": "python",
        "version": 3
      },
      "file_extension": ".py",
      "mimetype": "text/x-python",
      "name": "python",
      "nbconvert_exporter": "python",
      "pygments_lexer": "ipython3",
      "version": "3.8"
    }
  },
  "nbformat_minor": 4,
  "nbformat": 4,
  "cells": [
    {
      "cell_type": "markdown",
      "source": "<center>\n    <img src=\"https://s3-api.us-geo.objectstorage.softlayer.net/cf-courses-data/CognitiveClass/Logos/organization_logo/organization_logo.png\" width=\"300\" alt=\"cognitiveclass.ai logo\"  />\n</center>\n",
      "metadata": {}
    },
    {
      "cell_type": "markdown",
      "source": "#### Add your code below following the instructions given in the course\n",
      "metadata": {}
    },
    {
      "cell_type": "markdown",
      "source": "**MY JUPYTER NOTEBOOK ON IBM WATSON STUDIO**",
      "metadata": {}
    },
    {
      "cell_type": "markdown",
      "source": "**AFIA ASIF**",
      "metadata": {}
    },
    {
      "cell_type": "markdown",
      "source": "100% human",
      "metadata": {}
    },
    {
      "cell_type": "markdown",
      "source": "*I am interseted in data science because it gives meaning to raw data and convert into meaningful insights*",
      "metadata": {}
    },
    {
      "cell_type": "markdown",
      "source": "**Creating a class in python**",
      "metadata": {}
    },
    {
      "cell_type": "code",
      "source": "class Person:\n    def __init__(self,fname,lname):\n        self.firstname = fname\n        self.lastname = lname\n    def printname(self):\n        print(self.firstname,self.lastname)\nclass Student(Person):\n    \n    def __init__(self,fname,lname):\n        Person.__init__(self,fname,lname)\nx = Student('mike','olsen')\nx.printname()",
      "metadata": {
        "trusted": true
      },
      "execution_count": 3,
      "outputs": [
        {
          "name": "stdout",
          "text": "mike olsen\n",
          "output_type": "stream"
        }
      ]
    },
    {
      "cell_type": "markdown",
      "source": "- **One**\n- **Two**\n- **three**\n- **one**\n- **two**\n- **three**",
      "metadata": {}
    },
    {
      "cell_type": "code",
      "source": "",
      "metadata": {},
      "execution_count": null,
      "outputs": []
    }
  ]
}